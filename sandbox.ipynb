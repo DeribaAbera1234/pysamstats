{
 "metadata": {
  "name": "sandbox"
 },
 "nbformat": 3,
 "nbformat_minor": 0,
 "worksheets": [
  {
   "cells": [
    {
     "cell_type": "code",
     "collapsed": false,
     "input": [
      "import pysam\n",
      "import pysamstats\n",
      "from itertools import islice"
     ],
     "language": "python",
     "metadata": {},
     "outputs": [],
     "prompt_number": 1
    },
    {
     "cell_type": "code",
     "collapsed": false,
     "input": [
      "kwargs = {'chrom': 'Pf3D7_01_v3',\n",
      "#          'start': 0,\n",
      "#          'end': 10000,\n",
      "          'one_based': False}\n",
      "it = pysamstats.stat_coverage_binned(pysam.Samfile('fixture/test.bam'), pysam.Fastafile('fixture/ref.fa'), **kwargs)\n",
      "for rec in islice(it, 10):\n",
      "    print rec"
     ],
     "language": "python",
     "metadata": {},
     "outputs": [
      {
       "output_type": "stream",
       "stream": "stdout",
       "text": [
        "{'gc': 47, 'reads_pp': 428, 'chrom': 'Pf3D7_01_v3', 'pos': 150, 'reads_all': 538}\n",
        "{'gc': 30, 'reads_pp': 620, 'chrom': 'Pf3D7_01_v3', 'pos': 450, 'reads_all': 665}\n",
        "{'gc': 28, 'reads_pp': 667, 'chrom': 'Pf3D7_01_v3', 'pos': 750, 'reads_all': 703}\n",
        "{'gc': 27, 'reads_pp': 672, 'chrom': 'Pf3D7_01_v3', 'pos': 1050, 'reads_all': 726}\n",
        "{'gc': 30, 'reads_pp': 711, 'chrom': 'Pf3D7_01_v3', 'pos': 1350, 'reads_all': 728}\n",
        "{'gc': 32, 'reads_pp': 725, 'chrom': 'Pf3D7_01_v3', 'pos': 1650, 'reads_all': 735}\n",
        "{'gc': 29, 'reads_pp': 846, 'chrom': 'Pf3D7_01_v3', 'pos': 1950, 'reads_all': 856}\n",
        "{'gc': 28, 'reads_pp': 774, 'chrom': 'Pf3D7_01_v3', 'pos': 2250, 'reads_all': 782}\n",
        "{'gc': 27, 'reads_pp': 764, 'chrom': 'Pf3D7_01_v3', 'pos': 2550, 'reads_all': 769}\n",
        "{'gc': 31, 'reads_pp': 793, 'chrom': 'Pf3D7_01_v3', 'pos': 2850, 'reads_all': 798}\n"
       ]
      }
     ],
     "prompt_number": 2
    },
    {
     "cell_type": "code",
     "collapsed": false,
     "input": [
      "%timeit pysamstats.count_reads(pysam.Samfile('fixture/test.bam'), chrom='Pf3D7_01_v3')"
     ],
     "language": "python",
     "metadata": {},
     "outputs": [
      {
       "output_type": "stream",
       "stream": "stdout",
       "text": [
        "10 loops, best of 3: 18.8 ms per loop\n"
       ]
      }
     ],
     "prompt_number": 3
    },
    {
     "cell_type": "code",
     "collapsed": false,
     "input": [
      "import matplotlib.pyplot as plt\n",
      "a = pysamstats.load_coverage(pysam.Samfile('fixture/test.bam'))\n",
      "plt.plot(a.pos, a.reads_all)\n",
      "plt.show()"
     ],
     "language": "python",
     "metadata": {},
     "outputs": [],
     "prompt_number": 15
    },
    {
     "cell_type": "code",
     "collapsed": false,
     "input": [
      "a"
     ],
     "language": "python",
     "metadata": {},
     "outputs": [
      {
       "output_type": "pyout",
       "prompt_number": 14,
       "text": [
        "rec.array([('Pf3D7_01_v3', 0, 1, 1), ('Pf3D7_01_v3', 1, 1, 1),\n",
        "       ('Pf3D7_01_v3', 2, 6, 5), ..., ('Pf3D7_01_v3', 10072, 6, 6),\n",
        "       ('Pf3D7_01_v3', 10073, 5, 5), ('Pf3D7_01_v3', 10074, 2, 2)], \n",
        "      dtype=[('chrom', 'S12'), ('pos', '<i4'), ('reads_all', '<i4'), ('reads_pp', '<i4')])"
       ]
      }
     ],
     "prompt_number": 14
    },
    {
     "cell_type": "code",
     "collapsed": false,
     "input": [
      "a.chrom"
     ],
     "language": "python",
     "metadata": {},
     "outputs": [
      {
       "output_type": "pyout",
       "prompt_number": 11,
       "text": [
        "chararray(['Pf3D7_01_v3', 'Pf3D7_01_v3', 'Pf3D7_01_v3', 'Pf3D7_01_v3',\n",
        "       'Pf3D7_01_v3', 'Pf3D7_01_v3', 'Pf3D7_01_v3', 'Pf3D7_01_v3',\n",
        "       'Pf3D7_01_v3', 'Pf3D7_01_v3', 'Pf3D7_01_v3', 'Pf3D7_01_v3',\n",
        "       'Pf3D7_01_v3', 'Pf3D7_01_v3', 'Pf3D7_01_v3', 'Pf3D7_01_v3',\n",
        "       'Pf3D7_01_v3', 'Pf3D7_01_v3', 'Pf3D7_01_v3', 'Pf3D7_01_v3',\n",
        "       'Pf3D7_01_v3', 'Pf3D7_01_v3', 'Pf3D7_01_v3', 'Pf3D7_01_v3',\n",
        "       'Pf3D7_01_v3', 'Pf3D7_01_v3', 'Pf3D7_01_v3', 'Pf3D7_01_v3',\n",
        "       'Pf3D7_01_v3', 'Pf3D7_01_v3', 'Pf3D7_01_v3', 'Pf3D7_01_v3',\n",
        "       'Pf3D7_01_v3'], \n",
        "      dtype='|S12')"
       ]
      }
     ],
     "prompt_number": 11
    },
    {
     "cell_type": "code",
     "collapsed": false,
     "input": [],
     "language": "python",
     "metadata": {},
     "outputs": []
    }
   ],
   "metadata": {}
  }
 ]
}