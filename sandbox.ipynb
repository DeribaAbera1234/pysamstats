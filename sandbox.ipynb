{
 "metadata": {
  "name": "sandbox"
 },
 "nbformat": 3,
 "nbformat_minor": 0,
 "worksheets": [
  {
   "cells": [
    {
     "cell_type": "code",
     "collapsed": false,
     "input": [
      "import pysam\n",
      "import pysamstats\n",
      "from itertools import islice"
     ],
     "language": "python",
     "metadata": {},
     "outputs": [],
     "prompt_number": 1
    },
    {
     "cell_type": "code",
     "collapsed": false,
     "input": [
      "kwargs = {'chrom': 'Pf3D7_01_v3',\n",
      "          'start': 0,\n",
      "          'end': 10000,\n",
      "          'one_based': False}\n",
      "it = pysamstats.stat_coverage_binned(pysam.Samfile('fixture/test.bam'), pysam.Fastafile('fixture/ref.fa'), **kwargs)\n",
      "for rec in islice(it, 10):\n",
      "    print rec"
     ],
     "language": "python",
     "metadata": {},
     "outputs": [],
     "prompt_number": 2
    },
    {
     "cell_type": "code",
     "collapsed": false,
     "input": [],
     "language": "python",
     "metadata": {},
     "outputs": []
    }
   ],
   "metadata": {}
  }
 ]
}